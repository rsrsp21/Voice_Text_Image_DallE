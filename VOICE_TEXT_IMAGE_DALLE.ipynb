{
 "cells": [
  {
   "cell_type": "code",
   "execution_count": null,
   "id": "31593d2c",
   "metadata": {},
   "outputs": [],
   "source": [
    "import gradio as gr"
   ]
  },
  {
   "cell_type": "code",
   "execution_count": null,
   "id": "2bf2c366",
   "metadata": {},
   "outputs": [],
   "source": [
    "import openai"
   ]
  },
  {
   "cell_type": "code",
   "execution_count": null,
   "id": "f3864117",
   "metadata": {},
   "outputs": [],
   "source": [
    "import os"
   ]
  },
  {
   "cell_type": "code",
   "execution_count": null,
   "id": "8ece1280",
   "metadata": {},
   "outputs": [],
   "source": [
    "import warnings"
   ]
  },
  {
   "cell_type": "code",
   "execution_count": null,
   "id": "e3304625",
   "metadata": {},
   "outputs": [],
   "source": [
    "warnings.filterwarnings(\"ignore\")"
   ]
  },
  {
   "cell_type": "code",
   "execution_count": null,
   "id": "d30de064",
   "metadata": {},
   "outputs": [],
   "source": [
    "openai.api_key = \"\""
   ]
  },
  {
   "cell_type": "code",
   "execution_count": null,
   "id": "ed7bbefe",
   "metadata": {},
   "outputs": [],
   "source": [
    "def chatgpt_api(input_text):\n",
    "    messages = [\n",
    "        {\"role\" : \"system\", \n",
    "                 \"content\" : \"You are a helpful assistant.\"}]\n",
    "    if input_text:\n",
    "        messages.append(\n",
    "            {\"role\" : \"user\", \n",
    "                         \"content\" : 'Summarise this text \"{}\" into a short and concise Dalle-2 Prompt.'})\n",
    "        chat_completion = openai.ChatCompletion.create(model = \"gpt-3.5-turbo\",\n",
    "                                                       messages = messages)\n",
    "    reply = chat_completion.choices[0].message.content\n",
    "    return reply"
   ]
  },
  {
   "cell_type": "code",
   "execution_count": null,
   "id": "56a859fc",
   "metadata": {},
   "outputs": [],
   "source": [
    "def dall_e_api(dalle_prompt):\n",
    "    dalle_response = openai.Image.create(prompt = dalle_prompt,\n",
    "                                         size = \"512x512\")\n",
    "    image_url = dalle_response['data'][0]['url']\n",
    "    return image_url"
   ]
  },
  {
   "cell_type": "code",
   "execution_count": null,
   "id": "9c06ead4",
   "metadata": {},
   "outputs": [],
   "source": [
    "def whisper_transcribe(audio):\n",
    "    os.rename(audio, audio + '.wav')\n",
    "    audio_file = open(audio +'.wav', \"rb\")\n",
    "    transcript = openai.Audio.transcribe(\"whisper-1\", audio_file)\n",
    "    dalle_prompt = chatgpt_api(transcript[\"text\"])\n",
    "    image_url = dall_e_api(dalle_prompt)\n",
    "    return transcript[\"text\"], image_url"
   ]
  },
  {
   "cell_type": "code",
   "execution_count": null,
   "id": "b9f87cfa",
   "metadata": {},
   "outputs": [],
   "source": [
    "output_1 = gr.Textbox(label = \"Speech to Text\")\n",
    "output_2 = gr.Image(label = \"DALL-E Image\")"
   ]
  },
  {
   "cell_type": "code",
   "execution_count": null,
   "id": "5058781b",
   "metadata": {
    "scrolled": false
   },
   "outputs": [],
   "source": [
    "speech_interface = gr.Interface(fn = whisper_transcribe,\n",
    "                                inputs = gr.Audio(source=\"microphone\", type=\"filepath\"),\n",
    "                                outputs = [output_1, output_2],\n",
    "                                title = \"Generate Images using Voice\")\n",
    "speech_interface.launch(debug=True)"
   ]
  },
  {
   "cell_type": "code",
   "execution_count": null,
   "id": "fe5c742a",
   "metadata": {},
   "outputs": [],
   "source": []
  }
 ],
 "metadata": {
  "kernelspec": {
   "display_name": "Python 3 (ipykernel)",
   "language": "python",
   "name": "python3"
  },
  "language_info": {
   "codemirror_mode": {
    "name": "ipython",
    "version": 3
   },
   "file_extension": ".py",
   "mimetype": "text/x-python",
   "name": "python",
   "nbconvert_exporter": "python",
   "pygments_lexer": "ipython3",
   "version": "3.9.12"
  }
 },
 "nbformat": 4,
 "nbformat_minor": 5
}
